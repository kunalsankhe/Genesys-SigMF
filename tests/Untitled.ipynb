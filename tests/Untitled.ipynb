{
 "cells": [
  {
   "cell_type": "code",
   "execution_count": 1,
   "metadata": {},
   "outputs": [],
   "source": [
    "import scipy.io\n",
    "import os\n",
    "import numpy as np"
   ]
  },
  {
   "cell_type": "code",
   "execution_count": null,
   "metadata": {},
   "outputs": [],
   "source": [
    "# Import to a python dictionary\n",
    "\n",
    "\n"
   ]
  },
  {
   "cell_type": "code",
   "execution_count": 2,
   "metadata": {},
   "outputs": [],
   "source": [
    "source_filepath = '/media/kunal/GENESYS-HD/INFOCOM2019-ORACLE-Dataset/KRI-16Devices-RawData/'\n",
    "dest_filepath = '/media/kunal/GENESYS-HD/INFOCOM2019-ORACLE-Dataset/SigMF-Dataset/KRI-16Devices-RawData/' \n",
    "included_extensions = ['mat']\n",
    "file_names = [fn for fn in os.listdir(source_filepath)\n",
    "              if any(fn.endswith(ext) for ext in included_extensions)]"
   ]
  },
  {
   "cell_type": "code",
   "execution_count": 3,
   "metadata": {},
   "outputs": [],
   "source": [
    "if not os.path.exists(dest_filepath):\n",
    "    os.makedirs(dest_filepath)"
   ]
  },
  {
   "cell_type": "code",
   "execution_count": 13,
   "metadata": {},
   "outputs": [
    {
     "name": "stdout",
     "output_type": "stream",
     "text": [
      "WiFi_air_X310_3123D7D_8ft_run1.mat\n",
      "WiFi_air_X310_3123D7D_8ft_run1.mat\n",
      "20006400\n",
      "[0.00558489-0.00021363j]\n",
      "/media/kunal/GENESYS-HD/INFOCOM2019-ORACLE-Dataset/SigMF-Dataset/KRI-16Devices-RawData/WiFi_air_X310_3123D7D_8ft_run1.sigmf-data\n"
     ]
    }
   ],
   "source": [
    "for _file in file_names:\n",
    "    print _file\n",
    "    source_file = source_filepath + _file \n",
    "    print _file\n",
    "    mat = scipy.io.loadmat(source_file)\n",
    "    wifi_rx_data = mat['wifi_rx_data']\n",
    "    x_len = len(wifi_rx_data)\n",
    "    print x_len\n",
    "    print wifi_rx_data[0]\n",
    "    x_real = np.float32(np.real(wifi_rx_data))\n",
    "    x_imag = np.float32(np.imag(wifi_rx_data))    \n",
    "    x = np.zeros((x_len,2))\n",
    "    x[:,0] = x_real.ravel()\n",
    "    x[:,1] = x_imag.ravel()\n",
    "    x = x.flatten()\n",
    "    \n",
    "    dest_filename = dest_filepath + _file[:-4] + '.sigmf-data'\n",
    "    print dest_filename\n",
    "    newFile = open(dest_filename, \"wb\")\n",
    "\n",
    "    newFileByteArray = bytearray(x)\n",
    "    newFile.write(newFileByteArray)\n",
    "\n",
    "    break\n",
    "    "
   ]
  },
  {
   "cell_type": "code",
   "execution_count": null,
   "metadata": {},
   "outputs": [],
   "source": [
    "print x_real.ravel()\n",
    "print x_imag.ravel()\n",
    "\n",
    "x_len = np.shape(x_real.ravel())\n",
    "print x_len[0]\n",
    "x = np.zeros((x_len[0],2))\n",
    "x[:,0] = x_real.ravel()\n",
    "x[:,1] = x_imag.ravel()\n",
    "x = x.flatten()\n",
    "\n"
   ]
  },
  {
   "cell_type": "code",
   "execution_count": 10,
   "metadata": {},
   "outputs": [
    {
     "name": "stdout",
     "output_type": "stream",
     "text": [
      "[ 5.58488723e-03 -2.13629566e-04 -3.50962859e-03 ... -3.05185094e-05\n",
      " -4.27259132e-04 -1.10782189e-02]\n"
     ]
    }
   ],
   "source": [
    "print x"
   ]
  },
  {
   "cell_type": "code",
   "execution_count": 81,
   "metadata": {},
   "outputs": [],
   "source": [
    "path = '/media/kunal/GENESYS-HD/INFOCOM2019-ORACLE-Dataset/SigMF-Dataset/KRI-16Devices-RawData/WiFi_air_X310_3123D7D_108ft_run1.sigmf-data'"
   ]
  },
  {
   "cell_type": "code",
   "execution_count": 72,
   "metadata": {},
   "outputs": [
    {
     "ename": "AttributeError",
     "evalue": "'str' object has no attribute 'findall'",
     "output_type": "error",
     "traceback": [
      "\u001b[0;31m---------------------------------------------------------------------------\u001b[0m",
      "\u001b[0;31mAttributeError\u001b[0m                            Traceback (most recent call last)",
      "\u001b[0;32m<ipython-input-72-eb2f43db94a3>\u001b[0m in \u001b[0;36m<module>\u001b[0;34m()\u001b[0m\n\u001b[0;32m----> 1\u001b[0;31m \u001b[0mpath\u001b[0m\u001b[0;34m.\u001b[0m\u001b[0mfindall\u001b[0m\u001b[0;34m(\u001b[0m\u001b[0;34m'_'\u001b[0m\u001b[0;34m)\u001b[0m\u001b[0;34m\u001b[0m\u001b[0m\n\u001b[0m",
      "\u001b[0;31mAttributeError\u001b[0m: 'str' object has no attribute 'findall'"
     ]
    }
   ],
   "source": [
    "path.findall('_')"
   ]
  },
  {
   "cell_type": "code",
   "execution_count": 82,
   "metadata": {},
   "outputs": [
    {
     "name": "stdout",
     "output_type": "stream",
     "text": [
      "['108']\n"
     ]
    }
   ],
   "source": [
    "import re\n",
    "#pattern = re.compile('ft$')\n",
    "string = 'hello 12 hi 89. Howdy 34'\n",
    "pattern = '(\\d+)ft'\n",
    "result = re.findall(pattern, path) \n",
    "print(result)\n"
   ]
  },
  {
   "cell_type": "code",
   "execution_count": 74,
   "metadata": {},
   "outputs": [
    {
     "data": {
      "text/plain": [
       "<function index>"
      ]
     },
     "execution_count": 74,
     "metadata": {},
     "output_type": "execute_result"
    }
   ],
   "source": [
    "result.index"
   ]
  },
  {
   "cell_type": "code",
   "execution_count": null,
   "metadata": {},
   "outputs": [],
   "source": []
  }
 ],
 "metadata": {
  "kernelspec": {
   "display_name": "Python 2",
   "language": "python",
   "name": "python2"
  },
  "language_info": {
   "codemirror_mode": {
    "name": "ipython",
    "version": 2
   },
   "file_extension": ".py",
   "mimetype": "text/x-python",
   "name": "python",
   "nbconvert_exporter": "python",
   "pygments_lexer": "ipython2",
   "version": "2.7.15"
  }
 },
 "nbformat": 4,
 "nbformat_minor": 2
}
